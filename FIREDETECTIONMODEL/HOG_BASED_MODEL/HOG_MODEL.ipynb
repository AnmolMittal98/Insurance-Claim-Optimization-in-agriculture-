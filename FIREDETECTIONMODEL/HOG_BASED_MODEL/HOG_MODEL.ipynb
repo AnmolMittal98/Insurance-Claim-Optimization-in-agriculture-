{
 "cells": [
  {
   "cell_type": "code",
   "execution_count": 1,
   "metadata": {},
   "outputs": [],
   "source": [
    "import time\n",
    "import pandas as pd\n",
    "\n",
    "from sklearn.svm import SVC\n",
    "from sklearn.naive_bayes import GaussianNB as nb\n",
    "from sklearn.neighbors import KNeighborsClassifier as knn\n",
    "from sklearn.linear_model import LogisticRegression as lr\n",
    "from sklearn.neural_network import MLPClassifier as mlp\n",
    "from sklearn.model_selection import train_test_split\n",
    "import numpy as np\n",
    "import pickle\n",
    "import sklearn.metrics as sm\n",
    "from sklearn.metrics import classification_report,confusion_matrix\n",
    "from sklearn.ensemble import RandomForestClassifier\n",
    "from sklearn.naive_bayes import MultinomialNB as mnb"
   ]
  },
  {
   "cell_type": "code",
   "execution_count": 2,
   "metadata": {},
   "outputs": [],
   "source": [
    "def predict_svm(X_train, X_test, y_train, y_test):\n",
    "    svc=SVC(kernel='linear') \n",
    "    print(\"svm started\")\n",
    "    svc.fit(X_train,y_train)\n",
    "    \n",
    "    #filename = 'svm_model.sav'\n",
    "    #pickle.dump(svc, open(filename, 'wb'))\n",
    "    \n",
    "    y_pred=svc.predict(X_test)\n",
    "    print(classification_report(y_test,y_pred))\n",
    "    print(\"--------------------\")\n",
    "    print(confusion_matrix(y_test,y_pred))\n",
    "    #calc_accuracy(\"SVM\",y_test,y_pred)"
   ]
  },
  {
   "cell_type": "code",
   "execution_count": 3,
   "metadata": {},
   "outputs": [],
   "source": [
    "def predict_mnb(X_train, X_test, y_train, y_test):\n",
    "    clf = mnb()\n",
    "    print(\"mnb started\")\n",
    "    clf.fit(X_train,y_train)\n",
    "    \n",
    "    #filename = 'nb_model.sav'\n",
    "    #pickle.dump(clf, open(filename, 'wb'))\n",
    "    \n",
    "    y_pred=clf.predict(X_test)\n",
    "    print(classification_report(y_test,y_pred))\n",
    "    print(\"--------------------\")\n",
    "    print(confusion_matrix(y_test,y_pred))"
   ]
  },
  {
   "cell_type": "code",
   "execution_count": 4,
   "metadata": {},
   "outputs": [],
   "source": [
    "def predict_lr(X_train, X_test, y_train, y_test):\n",
    "    clf = lr()\n",
    "    print(\"lr started\")\n",
    "    clf.fit(X_train,y_train)\n",
    "    \n",
    "    #filename = 'lr_model.sav'\n",
    "    #pickle.dump(clf, open(filename, 'wb'))\n",
    "    \n",
    "    y_pred=clf.predict(X_test)\n",
    "    print(classification_report(y_test,y_pred))\n",
    "    print(\"--------------------\")\n",
    "    print(confusion_matrix(y_test,y_pred))\n",
    "    #calc_accuracy(\"Logistic regression\",y_test,y_pred)"
   ]
  },
  {
   "cell_type": "code",
   "execution_count": 5,
   "metadata": {},
   "outputs": [],
   "source": [
    "def predict_rf(X_train, X_test, y_train, y_test):\n",
    "    rtree=RandomForestClassifier(n_estimators=200)\n",
    "    print(\"rf started\")\n",
    "    rtree.fit(X_train,y_train)\n",
    "    y_pred=rtree.predict(X_test)\n",
    "    print(classification_report(y_test,y_pred))\n",
    "    print(\"--------------------\")\n",
    "    print(confusion_matrix(y_test,y_pred))\n",
    "    "
   ]
  },
  {
   "cell_type": "code",
   "execution_count": 6,
   "metadata": {},
   "outputs": [],
   "source": [
    "def predict_nb(X_train, X_test, y_train, y_test):\n",
    "    clf = nb()\n",
    "    print(\"nb started\")\n",
    "    clf.fit(X_train,y_train)\n",
    "    \n",
    "    #filename = 'nb_model.sav'\n",
    "    #pickle.dump(clf, open(filename, 'wb'))\n",
    "    \n",
    "    y_pred=clf.predict(X_test)\n",
    "    print(classification_report(y_test,y_pred))\n",
    "    print(\"--------------------\")\n",
    "    print(confusion_matrix(y_test,y_pred))\n",
    "    #calc_accuracy(\"Naive Bayes\",y_test,y_pred)"
   ]
  },
  {
   "cell_type": "code",
   "execution_count": 7,
   "metadata": {},
   "outputs": [],
   "source": [
    "def predict_knn(X_train, X_test, y_train, y_test):\n",
    "    clf=knn(n_neighbors=8)\n",
    "    print(\"knn started\")\n",
    "    clf.fit(X_train,y_train)\n",
    "    \n",
    "    #filename = 'knn_model.sav'\n",
    "    #pickle.dump(clf, open(filename, 'wb'))\n",
    "    \n",
    "    y_pred=clf.predict(X_test)\n",
    "    print(classification_report(y_test,y_pred))\n",
    "    print(\"--------------------\")\n",
    "    print(confusion_matrix(y_test,y_pred))\n",
    "    #calc_accuracy(\"K nearest neighbours\",y_test,y_pred)"
   ]
  },
  {
   "cell_type": "code",
   "execution_count": 8,
   "metadata": {},
   "outputs": [],
   "source": [
    "def predict_mlp(X_train, X_test, y_train, y_test):\n",
    "    clf=mlp()\n",
    "    print(\"mlp started\")\n",
    "    clf.fit(X_train,y_train)\n",
    "    \n",
    "    #filename = 'mlp_model.sav'\n",
    "    #pickle.dump(clf, open(filename, 'wb'))\n",
    "    \n",
    "    y_pred=clf.predict(X_test)\n",
    "    print(classification_report(y_test,y_pred))\n",
    "    print(\"--------------------\")\n",
    "    print(confusion_matrix(y_test,y_pred))\n",
    "    #calc_accuracy(\"MLP classifier\",y_test,y_pred)\n"
   ]
  },
  {
   "cell_type": "code",
   "execution_count": 9,
   "metadata": {},
   "outputs": [],
   "source": [
    "df = pd.read_csv(r\"C:\\Users\\98anm\\Desktop\\ANMOL\\DATA SCIENCE 2\\ML PROJECTS\\minorp\\DETECTION11.csv\", sep=',',header=None)\n",
    "X = df.iloc[:, :-1]\n",
    "y = df.iloc[:,-1]\n",
    "\n",
    "X_train, X_test, y_train, y_test = train_test_split(X, y, test_size=0.30, random_state=42)"
   ]
  },
  {
   "cell_type": "code",
   "execution_count": 10,
   "metadata": {},
   "outputs": [
    {
     "data": {
      "text/html": [
       "<div>\n",
       "<style>\n",
       "    .dataframe thead tr:only-child th {\n",
       "        text-align: right;\n",
       "    }\n",
       "\n",
       "    .dataframe thead th {\n",
       "        text-align: left;\n",
       "    }\n",
       "\n",
       "    .dataframe tbody tr th {\n",
       "        vertical-align: top;\n",
       "    }\n",
       "</style>\n",
       "<table border=\"1\" class=\"dataframe\">\n",
       "  <thead>\n",
       "    <tr style=\"text-align: right;\">\n",
       "      <th></th>\n",
       "      <th>0</th>\n",
       "      <th>1</th>\n",
       "      <th>2</th>\n",
       "      <th>3</th>\n",
       "      <th>4</th>\n",
       "      <th>5</th>\n",
       "      <th>6</th>\n",
       "      <th>7</th>\n",
       "      <th>8</th>\n",
       "      <th>9</th>\n",
       "      <th>...</th>\n",
       "      <th>7991</th>\n",
       "      <th>7992</th>\n",
       "      <th>7993</th>\n",
       "      <th>7994</th>\n",
       "      <th>7995</th>\n",
       "      <th>7996</th>\n",
       "      <th>7997</th>\n",
       "      <th>7998</th>\n",
       "      <th>7999</th>\n",
       "      <th>8000</th>\n",
       "    </tr>\n",
       "  </thead>\n",
       "  <tbody>\n",
       "    <tr>\n",
       "      <th>0</th>\n",
       "      <td>0.540932</td>\n",
       "      <td>0.231248</td>\n",
       "      <td>0.540932</td>\n",
       "      <td>0.251596</td>\n",
       "      <td>0.540932</td>\n",
       "      <td>0.542417</td>\n",
       "      <td>0.308191</td>\n",
       "      <td>0.542417</td>\n",
       "      <td>0.130199</td>\n",
       "      <td>0.542417</td>\n",
       "      <td>...</td>\n",
       "      <td>0.459509</td>\n",
       "      <td>0.459509</td>\n",
       "      <td>0.459509</td>\n",
       "      <td>0.459509</td>\n",
       "      <td>0.138177</td>\n",
       "      <td>0.482382</td>\n",
       "      <td>0.565746</td>\n",
       "      <td>0.565746</td>\n",
       "      <td>0.320044</td>\n",
       "      <td>FIRE</td>\n",
       "    </tr>\n",
       "    <tr>\n",
       "      <th>1</th>\n",
       "      <td>0.446216</td>\n",
       "      <td>0.446216</td>\n",
       "      <td>0.446216</td>\n",
       "      <td>0.446216</td>\n",
       "      <td>0.446216</td>\n",
       "      <td>0.459399</td>\n",
       "      <td>0.388874</td>\n",
       "      <td>0.459399</td>\n",
       "      <td>0.459399</td>\n",
       "      <td>0.459399</td>\n",
       "      <td>...</td>\n",
       "      <td>0.509970</td>\n",
       "      <td>0.509970</td>\n",
       "      <td>0.509970</td>\n",
       "      <td>0.351733</td>\n",
       "      <td>0.470566</td>\n",
       "      <td>0.470566</td>\n",
       "      <td>0.470566</td>\n",
       "      <td>0.470566</td>\n",
       "      <td>0.331014</td>\n",
       "      <td>FIRE</td>\n",
       "    </tr>\n",
       "    <tr>\n",
       "      <th>2</th>\n",
       "      <td>0.109357</td>\n",
       "      <td>0.341113</td>\n",
       "      <td>0.833411</td>\n",
       "      <td>0.400502</td>\n",
       "      <td>0.091602</td>\n",
       "      <td>0.134118</td>\n",
       "      <td>0.667845</td>\n",
       "      <td>0.667845</td>\n",
       "      <td>0.231959</td>\n",
       "      <td>0.171776</td>\n",
       "      <td>...</td>\n",
       "      <td>0.446216</td>\n",
       "      <td>0.446216</td>\n",
       "      <td>0.446216</td>\n",
       "      <td>0.446216</td>\n",
       "      <td>0.394789</td>\n",
       "      <td>0.359101</td>\n",
       "      <td>0.486596</td>\n",
       "      <td>0.486596</td>\n",
       "      <td>0.486596</td>\n",
       "      <td>FIRE</td>\n",
       "    </tr>\n",
       "    <tr>\n",
       "      <th>3</th>\n",
       "      <td>0.616773</td>\n",
       "      <td>0.265767</td>\n",
       "      <td>0.269680</td>\n",
       "      <td>0.299439</td>\n",
       "      <td>0.616773</td>\n",
       "      <td>0.370401</td>\n",
       "      <td>0.480568</td>\n",
       "      <td>0.480568</td>\n",
       "      <td>0.480568</td>\n",
       "      <td>0.406407</td>\n",
       "      <td>...</td>\n",
       "      <td>0.604514</td>\n",
       "      <td>0.604514</td>\n",
       "      <td>0.274891</td>\n",
       "      <td>0.297644</td>\n",
       "      <td>0.446216</td>\n",
       "      <td>0.446216</td>\n",
       "      <td>0.446216</td>\n",
       "      <td>0.446216</td>\n",
       "      <td>0.446216</td>\n",
       "      <td>FIRE</td>\n",
       "    </tr>\n",
       "    <tr>\n",
       "      <th>4</th>\n",
       "      <td>0.446216</td>\n",
       "      <td>0.446216</td>\n",
       "      <td>0.446216</td>\n",
       "      <td>0.446216</td>\n",
       "      <td>0.446216</td>\n",
       "      <td>0.446216</td>\n",
       "      <td>0.446216</td>\n",
       "      <td>0.446216</td>\n",
       "      <td>0.446216</td>\n",
       "      <td>0.446216</td>\n",
       "      <td>...</td>\n",
       "      <td>0.446216</td>\n",
       "      <td>0.446216</td>\n",
       "      <td>0.446216</td>\n",
       "      <td>0.446216</td>\n",
       "      <td>0.461691</td>\n",
       "      <td>0.461691</td>\n",
       "      <td>0.458531</td>\n",
       "      <td>0.381656</td>\n",
       "      <td>0.461691</td>\n",
       "      <td>FIRE</td>\n",
       "    </tr>\n",
       "  </tbody>\n",
       "</table>\n",
       "<p>5 rows × 8001 columns</p>\n",
       "</div>"
      ],
      "text/plain": [
       "       0         1         2         3         4         5         6     \\\n",
       "0  0.540932  0.231248  0.540932  0.251596  0.540932  0.542417  0.308191   \n",
       "1  0.446216  0.446216  0.446216  0.446216  0.446216  0.459399  0.388874   \n",
       "2  0.109357  0.341113  0.833411  0.400502  0.091602  0.134118  0.667845   \n",
       "3  0.616773  0.265767  0.269680  0.299439  0.616773  0.370401  0.480568   \n",
       "4  0.446216  0.446216  0.446216  0.446216  0.446216  0.446216  0.446216   \n",
       "\n",
       "       7         8         9     ...       7991      7992      7993      7994  \\\n",
       "0  0.542417  0.130199  0.542417  ...   0.459509  0.459509  0.459509  0.459509   \n",
       "1  0.459399  0.459399  0.459399  ...   0.509970  0.509970  0.509970  0.351733   \n",
       "2  0.667845  0.231959  0.171776  ...   0.446216  0.446216  0.446216  0.446216   \n",
       "3  0.480568  0.480568  0.406407  ...   0.604514  0.604514  0.274891  0.297644   \n",
       "4  0.446216  0.446216  0.446216  ...   0.446216  0.446216  0.446216  0.446216   \n",
       "\n",
       "       7995      7996      7997      7998      7999  8000  \n",
       "0  0.138177  0.482382  0.565746  0.565746  0.320044  FIRE  \n",
       "1  0.470566  0.470566  0.470566  0.470566  0.331014  FIRE  \n",
       "2  0.394789  0.359101  0.486596  0.486596  0.486596  FIRE  \n",
       "3  0.446216  0.446216  0.446216  0.446216  0.446216  FIRE  \n",
       "4  0.461691  0.461691  0.458531  0.381656  0.461691  FIRE  \n",
       "\n",
       "[5 rows x 8001 columns]"
      ]
     },
     "execution_count": 10,
     "metadata": {},
     "output_type": "execute_result"
    }
   ],
   "source": [
    "df.head()"
   ]
  },
  {
   "cell_type": "code",
   "execution_count": 11,
   "metadata": {},
   "outputs": [
    {
     "name": "stdout",
     "output_type": "stream",
     "text": [
      "lr started\n",
      "             precision    recall  f1-score   support\n",
      "\n",
      "       FIRE       0.98      0.97      0.97       316\n",
      "     NOFIRE       0.95      0.96      0.96       199\n",
      "\n",
      "avg / total       0.97      0.97      0.97       515\n",
      "\n",
      "--------------------\n",
      "[[305  11]\n",
      " [  7 192]]\n"
     ]
    }
   ],
   "source": [
    "#predict_svm(X_train, X_test,y_train, y_test)\n",
    "#predict_knn(X_train, X_test,y_train, y_test)\n",
    "predict_lr(X_train, X_test,y_train, y_test)\n",
    "#predict_nb(X_train, X_test,y_train, y_test)\n",
    "#predict_mlp(X_train, X_test,y_train, y_test)"
   ]
  },
  {
   "cell_type": "code",
   "execution_count": 12,
   "metadata": {},
   "outputs": [
    {
     "name": "stdout",
     "output_type": "stream",
     "text": [
      "svm started\n",
      "             precision    recall  f1-score   support\n",
      "\n",
      "       FIRE       0.97      0.92      0.95       316\n",
      "     NOFIRE       0.89      0.95      0.92       199\n",
      "\n",
      "avg / total       0.94      0.94      0.94       515\n",
      "\n",
      "--------------------\n",
      "[[292  24]\n",
      " [  9 190]]\n"
     ]
    }
   ],
   "source": [
    "predict_svm(X_train, X_test,y_train, y_test)\n",
    "#predict_knn(X_train, X_test,y_train, y_test)\n",
    "#predict_lr(X_train, X_test,y_train, y_test)\n",
    "#predict_nb(X_train, X_test,y_train, y_test)\n",
    "#predict_mlp(X_train, X_test,y_train, y_test)"
   ]
  },
  {
   "cell_type": "code",
   "execution_count": 13,
   "metadata": {},
   "outputs": [
    {
     "name": "stdout",
     "output_type": "stream",
     "text": [
      "knn started\n",
      "             precision    recall  f1-score   support\n",
      "\n",
      "       FIRE       1.00      0.26      0.41       316\n",
      "     NOFIRE       0.46      1.00      0.63       199\n",
      "\n",
      "avg / total       0.79      0.54      0.49       515\n",
      "\n",
      "--------------------\n",
      "[[ 81 235]\n",
      " [  0 199]]\n"
     ]
    }
   ],
   "source": [
    "#predict_svm(X_train, X_test,y_train, y_test)\n",
    "predict_knn(X_train, X_test,y_train, y_test)\n",
    "#predict_lr(X_train, X_test,y_train, y_test)\n",
    "#predict_nb(X_train, X_test,y_train, y_test)\n",
    "#predict_mlp(X_train, X_test,y_train, y_test)"
   ]
  },
  {
   "cell_type": "code",
   "execution_count": 14,
   "metadata": {},
   "outputs": [
    {
     "name": "stdout",
     "output_type": "stream",
     "text": [
      "nb started\n",
      "             precision    recall  f1-score   support\n",
      "\n",
      "       FIRE       0.87      0.52      0.65       316\n",
      "     NOFIRE       0.53      0.88      0.66       199\n",
      "\n",
      "avg / total       0.74      0.66      0.65       515\n",
      "\n",
      "--------------------\n",
      "[[163 153]\n",
      " [ 24 175]]\n"
     ]
    }
   ],
   "source": [
    "#predict_svm(X_train, X_test,y_train, y_test)\n",
    "#predict_knn(X_train, X_test,y_train, y_test)\n",
    "#predict_lr(X_train, X_test,y_train, y_test)\n",
    "predict_nb(X_train, X_test,y_train, y_test)\n",
    "#predict_mlp(X_train, X_test,y_train, y_test)"
   ]
  },
  {
   "cell_type": "code",
   "execution_count": 15,
   "metadata": {},
   "outputs": [
    {
     "name": "stdout",
     "output_type": "stream",
     "text": [
      "mlp started\n",
      "             precision    recall  f1-score   support\n",
      "\n",
      "       FIRE       0.61      1.00      0.76       316\n",
      "     NOFIRE       0.00      0.00      0.00       199\n",
      "\n",
      "avg / total       0.38      0.61      0.47       515\n",
      "\n",
      "--------------------\n",
      "[[316   0]\n",
      " [199   0]]\n"
     ]
    },
    {
     "name": "stderr",
     "output_type": "stream",
     "text": [
      "D:\\python_anaconda\\lib\\site-packages\\sklearn\\metrics\\classification.py:1113: UndefinedMetricWarning: Precision and F-score are ill-defined and being set to 0.0 in labels with no predicted samples.\n",
      "  'precision', 'predicted', average, warn_for)\n"
     ]
    }
   ],
   "source": [
    "#predict_svm(X_train, X_test,y_train, y_test)\n",
    "#predict_knn(X_train, X_test,y_train, y_test)\n",
    "#predict_lr(X_train, X_test,y_train, y_test)\n",
    "#predict_nb(X_train, X_test,y_train, y_test)\n",
    "predict_mlp(X_train, X_test,y_train, y_test)"
   ]
  },
  {
   "cell_type": "code",
   "execution_count": null,
   "metadata": {},
   "outputs": [],
   "source": []
  }
 ],
 "metadata": {
  "kernelspec": {
   "display_name": "Python 3",
   "language": "python",
   "name": "python3"
  },
  "language_info": {
   "codemirror_mode": {
    "name": "ipython",
    "version": 3
   },
   "file_extension": ".py",
   "mimetype": "text/x-python",
   "name": "python",
   "nbconvert_exporter": "python",
   "pygments_lexer": "ipython3",
   "version": "3.6.7"
  }
 },
 "nbformat": 4,
 "nbformat_minor": 2
}
